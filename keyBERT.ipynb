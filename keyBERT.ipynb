{
  "nbformat": 4,
  "nbformat_minor": 0,
  "metadata": {
    "colab": {
      "provenance": [],
      "gpuType": "T4",
      "authorship_tag": "ABX9TyM3C8p6QR/zPOXsjNUtRSNg",
      "include_colab_link": true
    },
    "kernelspec": {
      "name": "python3",
      "display_name": "Python 3"
    },
    "language_info": {
      "name": "python"
    },
    "accelerator": "GPU"
  },
  "cells": [
    {
      "cell_type": "markdown",
      "metadata": {
        "id": "view-in-github",
        "colab_type": "text"
      },
      "source": [
        "<a href=\"https://colab.research.google.com/github/devin-p-quinn/keyBERT/blob/main/keyBERT.ipynb\" target=\"_parent\"><img src=\"https://colab.research.google.com/assets/colab-badge.svg\" alt=\"Open In Colab\"/></a>"
      ]
    },
    {
      "cell_type": "code",
      "execution_count": null,
      "metadata": {
        "id": "HDPgo6ZUwV2I"
      },
      "outputs": [],
      "source": [
        "!pip install keybert"
      ]
    },
    {
      "cell_type": "code",
      "source": [
        "import matplotlib.pyplot as plt\n",
        "import numpy as np\n",
        "import itertools"
      ],
      "metadata": {
        "id": "uRfqll-k-CH9"
      },
      "execution_count": 1,
      "outputs": []
    },
    {
      "cell_type": "code",
      "source": [
        "# Read Moby Dick in as a single doc\n",
        "with open(\"mobydick.txt\", \"r\") as file:\n",
        "  doc = file.read()"
      ],
      "metadata": {
        "id": "TZ3_6PUgA2_k"
      },
      "execution_count": null,
      "outputs": []
    },
    {
      "cell_type": "code",
      "source": [
        "# clean unnecessary trailing whitespace\n",
        "# make all words lower case for better processing\n",
        "doc = doc.strip()\n",
        "doc = doc.lower()"
      ],
      "metadata": {
        "id": "Mf_xW6eoHGyb"
      },
      "execution_count": null,
      "outputs": []
    },
    {
      "cell_type": "code",
      "source": [
        "from keybert import KeyBERT\n",
        "# Use the phrase-bert model trained for phrase detection\n",
        "kw_model = KeyBERT()"
      ],
      "metadata": {
        "id": "w8nqZai7By7E"
      },
      "execution_count": null,
      "outputs": []
    },
    {
      "cell_type": "code",
      "source": [
        "doc_embeddings, word_embeddings = kw_model.extract_embeddings(doc, keyphrase_ngram_range=(1,3))\n",
        "keythemes = kw_model.extract_keywords(doc, doc_embeddings=doc_embeddings, word_embeddings=word_embeddings,\\\n",
        "                                     keyphrase_ngram_range=(1,3), top_n=10)"
      ],
      "metadata": {
        "id": "5nlBfNVqDdBY"
      },
      "execution_count": null,
      "outputs": []
    },
    {
      "cell_type": "code",
      "source": [
        "keythemes"
      ],
      "metadata": {
        "colab": {
          "base_uri": "https://localhost:8080/"
        },
        "id": "e4qmckpNEwDi",
        "outputId": "7961a553-6684-420f-8e46-75fb28ebb22d"
      },
      "execution_count": null,
      "outputs": [
        {
          "output_type": "execute_result",
          "data": {
            "text/plain": [
              "[('forswearing sea tempted', 0.5305),\n",
              " ('sea usages instinctive', 0.4956),\n",
              " ('sea tempted', 0.4735),\n",
              " ('honouring whalemen think', 0.4712),\n",
              " ('subtleness sea dreaded', 0.4683),\n",
              " ('seas wearily lonesomely', 0.464),\n",
              " ('sea tempted day', 0.4603),\n",
              " ('whaleman discretion', 0.4601),\n",
              " ('read fate whalemen', 0.4598),\n",
              " ('whaleman discretion certain', 0.455)]"
            ]
          },
          "metadata": {},
          "execution_count": 19
        }
      ]
    },
    {
      "cell_type": "code",
      "source": [
        "sentences = doc.split(\".\")"
      ],
      "metadata": {
        "id": "LN0kop0nG8j4"
      },
      "execution_count": null,
      "outputs": []
    },
    {
      "cell_type": "code",
      "source": [
        "kw_model = KeyBERT('whaleloops/phrase-bert')"
      ],
      "metadata": {
        "id": "Geo3SG48LVvA"
      },
      "execution_count": null,
      "outputs": []
    },
    {
      "cell_type": "code",
      "source": [
        "doc_embeddings, word_embeddings = kw_model.extract_embeddings(sentences, keyphrase_ngram_range=(3,7), stop_words=None)\n",
        "keymessages = kw_model.extract_keywords(sentences, doc_embeddings=doc_embeddings, word_embeddings=word_embeddings,\\\n",
        "                                     keyphrase_ngram_range=(3,7), stop_words=None)"
      ],
      "metadata": {
        "id": "5Y8tj-_rLnsV"
      },
      "execution_count": null,
      "outputs": []
    },
    {
      "cell_type": "code",
      "source": [
        "# Evaluate number of occurences of key messages in Moby Dick text\n",
        "key_val = {}\n",
        "\n",
        "for items in keywords:\n",
        "  for item in items:\n",
        "    key_val[item[0]] = doc.count(item[0])"
      ],
      "metadata": {
        "id": "aj6p-OEcNtnw"
      },
      "execution_count": null,
      "outputs": []
    },
    {
      "cell_type": "code",
      "source": [
        "keys = list(key_val.keys())\n",
        "values = list(key_val.values())\n",
        "sorted_value_index = np.argsort(values)\n",
        "sorted_value_index = np.flip(sorted_value_index)\n",
        "sorted_dict = {keys[i]: values[i] for i in sorted_value_index}"
      ],
      "metadata": {
        "id": "LcgPrAzd8qmQ"
      },
      "execution_count": null,
      "outputs": []
    },
    {
      "cell_type": "code",
      "source": [
        "sorted_dict"
      ],
      "metadata": {
        "id": "EiKaK7YR8vaK"
      },
      "execution_count": null,
      "outputs": []
    },
    {
      "cell_type": "code",
      "source": [
        "short_sort = dict(itertools.islice(sorted_dict.items(), 20))"
      ],
      "metadata": {
        "id": "usiw8kVK81Da"
      },
      "execution_count": null,
      "outputs": []
    },
    {
      "cell_type": "code",
      "source": [
        "short_sort"
      ],
      "metadata": {
        "id": "djgKCATt82NA"
      },
      "execution_count": null,
      "outputs": []
    },
    {
      "cell_type": "code",
      "source": [
        "phrases = list(short_sort.keys())\n",
        "occurences = list(short_sort.values())\n",
        "\n",
        "fig = plt.figure()\n",
        "\n",
        "plt.barh(phrases, occurences, color='green')\n",
        "plt.gca().invert_yaxis()\n",
        "\n",
        "\n",
        "\n",
        "plt.xlabel(\"Number of Occurences\")\n",
        "plt.ylabel(\"Detected phrases\")\n",
        "plt.title(\"KeyBERT Analysis Results\")\n",
        "\n",
        "plt.show()"
      ],
      "metadata": {
        "colab": {
          "base_uri": "https://localhost:8080/",
          "height": 472
        },
        "id": "K_yZbRoAOES0",
        "outputId": "67389b4e-9a3a-43b4-9d80-57730aa55480"
      },
      "execution_count": null,
      "outputs": [
        {
          "output_type": "display_data",
          "data": {
            "text/plain": [
              "<Figure size 640x480 with 1 Axes>"
            ],
            "image/png": "[encoded data removed]"
          },
          "metadata": {}
        }
      ]
    }
  ]
}